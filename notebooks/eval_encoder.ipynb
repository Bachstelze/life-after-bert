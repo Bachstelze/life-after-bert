{
 "cells": [
  {
   "cell_type": "code",
   "execution_count": 1,
   "id": "2ac3a072",
   "metadata": {},
   "outputs": [],
   "source": [
    "from life_after_bert.data import load_olmpics_data, MCDataset\n",
    "from life_after_bert.eval import evaluate_encoder"
   ]
  },
  {
   "cell_type": "code",
   "execution_count": 2,
   "id": "116b2e29",
   "metadata": {},
   "outputs": [],
   "source": [
    "import numpy as np\n",
    "import torch\n",
    "import transformers\n",
    "\n",
    "device = \"cuda\" if torch.cuda.is_available() else \"cpu\""
   ]
  },
  {
   "cell_type": "code",
   "execution_count": 3,
   "id": "b63cd364",
   "metadata": {},
   "outputs": [],
   "source": [
    "# model_name = \"bert-base-uncased\"\n",
    "model_name = \"roberta-large\"\n",
    "task = \"oLMpics MLM\"\n",
    "data_path = \"../tests/data/oLMpics_age_comparison_dev.jsonl\"\n",
    "num_choices = 2"
   ]
  },
  {
   "cell_type": "code",
   "execution_count": 4,
   "id": "8f251f46",
   "metadata": {},
   "outputs": [],
   "source": [
    "model = transformers.AutoModelForMaskedLM.from_pretrained(model_name)\n",
    "model.eval()\n",
    "model.to(device)\n",
    "pass  # Get rid of print"
   ]
  },
  {
   "cell_type": "code",
   "execution_count": 5,
   "id": "9ceae86c",
   "metadata": {},
   "outputs": [
    {
     "name": "stderr",
     "output_type": "stream",
     "text": [
      "100%|█████████████████████████████████████████████████████████████████████████████████████████████████████████████████████████████████| 500/500 [00:00<00:00, 626202.45it/s]\n"
     ]
    }
   ],
   "source": [
    "tokenizer = transformers.AutoTokenizer.from_pretrained(model_name)\n",
    "\n",
    "questions, choice_lists, answer_ids = load_olmpics_data(data_path, num_choices)\n",
    "dataset = MCDataset(questions, choice_lists, answer_ids, tokenizer)"
   ]
  },
  {
   "cell_type": "code",
   "execution_count": 6,
   "id": "f1e43511",
   "metadata": {},
   "outputs": [
    {
     "name": "stderr",
     "output_type": "stream",
     "text": [
      "Evaluating: 100%|███████████████████████████████████████████████████████████████████████████████████████████████████████████████████████████| 32/32 [00:00<00:00, 33.33it/s]\n"
     ]
    },
    {
     "data": {
      "text/plain": [
       "0.986"
      ]
     },
     "execution_count": 6,
     "metadata": {},
     "output_type": "execute_result"
    }
   ],
   "source": [
    "all_answers, all_preds = evaluate_encoder(model, tokenizer, task, dataset, device)\n",
    "(np.array(all_answers) == np.array(all_preds)).mean()"
   ]
  },
  {
   "cell_type": "code",
   "execution_count": null,
   "id": "64b373cb",
   "metadata": {},
   "outputs": [],
   "source": []
  }
 ],
 "metadata": {
  "kernelspec": {
   "display_name": "Python 3 (ipykernel)",
   "language": "python",
   "name": "python3"
  },
  "language_info": {
   "codemirror_mode": {
    "name": "ipython",
    "version": 3
   },
   "file_extension": ".py",
   "mimetype": "text/x-python",
   "name": "python",
   "nbconvert_exporter": "python",
   "pygments_lexer": "ipython3",
   "version": "3.8.10"
  }
 },
 "nbformat": 4,
 "nbformat_minor": 5
}
