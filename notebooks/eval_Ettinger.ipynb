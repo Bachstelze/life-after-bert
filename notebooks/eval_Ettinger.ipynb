{
 "cells": [
  {
   "cell_type": "code",
   "execution_count": 1,
   "id": "2ac3a072",
   "metadata": {},
   "outputs": [],
   "source": [
    "import random\n",
    "\n",
    "from datasets import load_dataset\n",
    "import numpy as np\n",
    "import torch\n",
    "import transformers\n",
    "\n",
    "from life_after_bert import MCDataset, evaluate_encoder"
   ]
  },
  {
   "cell_type": "code",
   "execution_count": 2,
   "id": "116b2e29",
   "metadata": {},
   "outputs": [],
   "source": [
    "device = \"cuda\" if torch.cuda.is_available() else \"cpu\"\n",
    "\n",
    "model_name = \"roberta-large\"\n",
    "task_type = \"oLMpics MLM\"\n",
    "num_choices = 2"
   ]
  },
  {
   "cell_type": "code",
   "execution_count": 3,
   "id": "8f251f46",
   "metadata": {},
   "outputs": [],
   "source": [
    "model = transformers.AutoModelForMaskedLM.from_pretrained(model_name)\n",
    "tokenizer = transformers.AutoTokenizer.from_pretrained(model_name)"
   ]
  },
  {
   "cell_type": "code",
   "execution_count": 4,
   "id": "377ef113",
   "metadata": {},
   "outputs": [
    {
     "name": "stdout",
     "output_type": "stream",
     "text": [
      "2022-04-01 12:49:35 | WARNING | datasets.builder | Reusing dataset new_dataset (/home/kzhao/.cache/huggingface/datasets/KevinZ___new_dataset/CPRAG/1.0.0/2a3d83194518f1e650e3ae8e54ce0d0ee0bfa69293ce1fcb4b79ec55621d035c)\n"
     ]
    },
    {
     "data": {
      "application/vnd.jupyter.widget-view+json": {
       "model_id": "1207dc23b09146bcbe69f5e232e2e32a",
       "version_major": 2,
       "version_minor": 0
      },
      "text/plain": [
       "  0%|          | 0/1 [00:00<?, ?it/s]"
      ]
     },
     "metadata": {},
     "output_type": "display_data"
    },
    {
     "name": "stdout",
     "output_type": "stream",
     "text": [
      "2022-04-01 12:49:35 | WARNING | datasets.arrow_dataset | Loading cached processed dataset at /home/kzhao/.cache/huggingface/datasets/KevinZ___new_dataset/CPRAG/1.0.0/2a3d83194518f1e650e3ae8e54ce0d0ee0bfa69293ce1fcb4b79ec55621d035c/cache-b72199c247e9361c.arrow\n",
      "2022-04-01 12:49:35 | WARNING | data.py | Truncated 13 tokens from answer choices.\n"
     ]
    }
   ],
   "source": [
    "dataset = load_dataset(\"KevinZ/Ettinger\", \"CPRAG\", use_auth_token=True)[\"test\"]\n",
    "\n",
    "def preprocess_CPRAG(example):\n",
    "    question = f'{example[\"context_s1\"]} {example[\"context_s2\"]} [MASK]'\n",
    "    choices = [example[key] for key in [\"expected\", \"within_category\", \"between_category\"]]\n",
    "    random.shuffle(choices)\n",
    "    answer_id = choices.index(example[\"expected\"])\n",
    "\n",
    "    return {\n",
    "        \"questions\": question,\n",
    "        \"choices\": choices,\n",
    "        \"answer_ids\": answer_id,\n",
    "    }\n",
    "\n",
    "dataset = dataset.map(preprocess_CPRAG)\n",
    "dataset = MCDataset(dataset[\"questions\"], dataset[\"choices\"], dataset[\"answer_ids\"], num_choices, task_type, tokenizer, max_length=36)"
   ]
  },
  {
   "cell_type": "code",
   "execution_count": 5,
   "id": "f1e43511",
   "metadata": {},
   "outputs": [
    {
     "data": {
      "application/vnd.jupyter.widget-view+json": {
       "model_id": "4ea09f2970b64422b11693f2c3165486",
       "version_major": 2,
       "version_minor": 0
      },
      "text/plain": [
       "Evaluating:   0%|          | 0/3 [00:00<?, ?it/s]"
      ]
     },
     "metadata": {},
     "output_type": "display_data"
    },
    {
     "data": {
      "text/plain": [
       "0.8529411764705882"
      ]
     },
     "execution_count": 5,
     "metadata": {},
     "output_type": "execute_result"
    }
   ],
   "source": [
    "accuracy, (all_answers, all_preds) = evaluate_encoder(model, tokenizer, dataset, device=device)\n",
    "accuracy"
   ]
  },
  {
   "cell_type": "code",
   "execution_count": null,
   "id": "64b373cb",
   "metadata": {},
   "outputs": [],
   "source": []
  }
 ],
 "metadata": {
  "kernelspec": {
   "display_name": "Python 3 (ipykernel)",
   "language": "python",
   "name": "python3"
  },
  "language_info": {
   "codemirror_mode": {
    "name": "ipython",
    "version": 3
   },
   "file_extension": ".py",
   "mimetype": "text/x-python",
   "name": "python",
   "nbconvert_exporter": "python",
   "pygments_lexer": "ipython3",
   "version": "3.8.10"
  }
 },
 "nbformat": 4,
 "nbformat_minor": 5
}
