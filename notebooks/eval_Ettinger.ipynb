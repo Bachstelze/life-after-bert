{
 "cells": [
  {
   "cell_type": "code",
   "execution_count": 1,
   "id": "2ac3a072",
   "metadata": {},
   "outputs": [],
   "source": [
    "import random\n",
    "\n",
    "from datasets import interleave_datasets, load_dataset\n",
    "import torch\n",
    "import transformers\n",
    "\n",
    "from life_after_bert import evaluate_encoder, MCDataset"
   ]
  },
  {
   "cell_type": "code",
   "execution_count": 2,
   "id": "116b2e29",
   "metadata": {},
   "outputs": [],
   "source": [
    "device = \"cuda\" if torch.cuda.is_available() else \"cpu\"\n",
    "\n",
    "model_name = \"roberta-large\"\n",
    "num_choices = 2"
   ]
  },
  {
   "cell_type": "code",
   "execution_count": 3,
   "id": "8f251f46",
   "metadata": {},
   "outputs": [],
   "source": [
    "model = transformers.AutoModelForMaskedLM.from_pretrained(model_name)\n",
    "tokenizer = transformers.AutoTokenizer.from_pretrained(model_name)"
   ]
  },
  {
   "cell_type": "code",
   "execution_count": 4,
   "id": "377ef113",
   "metadata": {},
   "outputs": [
    {
     "name": "stdout",
     "output_type": "stream",
     "text": [
      "2022-04-28 21:57:26 | WARNING | datasets.builder | Reusing dataset psycholinguistic_eval_dataset (/home/kzhao/.cache/huggingface/datasets/KevinZ___psycholinguistic_eval_dataset/CPRAG/1.0.0/3eee8f93d6c1c8e5f6f89524f7b9c66b5d12596259913420a745eb81f2483168)\n"
     ]
    },
    {
     "data": {
      "application/vnd.jupyter.widget-view+json": {
       "model_id": "f2d7594535ea45b3b2cdaf1e40fea6c8",
       "version_major": 2,
       "version_minor": 0
      },
      "text/plain": [
       "  0%|          | 0/1 [00:00<?, ?it/s]"
      ]
     },
     "metadata": {},
     "output_type": "display_data"
    },
    {
     "name": "stdout",
     "output_type": "stream",
     "text": [
      "2022-04-28 21:57:27 | WARNING | datasets.arrow_dataset | Loading cached processed dataset at /home/kzhao/.cache/huggingface/datasets/KevinZ___psycholinguistic_eval_dataset/CPRAG/1.0.0/3eee8f93d6c1c8e5f6f89524f7b9c66b5d12596259913420a745eb81f2483168/cache-262715ed8d17e074.arrow\n",
      "2022-04-28 21:57:27 | WARNING | data.py | Truncated 13 tokens from answer choices.\n"
     ]
    }
   ],
   "source": [
    "dataset = load_dataset(\"KevinZ/psycholinguistic_eval\", \"CPRAG\")[\"test\"]\n",
    "\n",
    "def preprocess_CPRAG(example):\n",
    "    question = f'{example[\"context_s1\"]} {example[\"context_s2\"]} [MASK]'\n",
    "    choices = [example[key] for key in [\"expected\", \"within_category\", \"between_category\"]]\n",
    "    random.shuffle(choices)\n",
    "    answer_id = choices.index(example[\"expected\"])\n",
    "\n",
    "    return {\n",
    "        \"questions\": question,\n",
    "        \"choices\": choices,\n",
    "        \"answer_ids\": answer_id,\n",
    "    }\n",
    "\n",
    "dataset = dataset.map(preprocess_CPRAG)\n",
    "dataset = MCDataset(dataset[\"questions\"], dataset[\"choices\"], dataset[\"answer_ids\"], num_choices, tokenizer, max_length=36)"
   ]
  },
  {
   "cell_type": "code",
   "execution_count": 5,
   "id": "f1e43511",
   "metadata": {},
   "outputs": [
    {
     "data": {
      "application/vnd.jupyter.widget-view+json": {
       "model_id": "9e1834467da2464489fa2615c5339234",
       "version_major": 2,
       "version_minor": 0
      },
      "text/plain": [
       "Evaluating:   0%|          | 0/3 [00:00<?, ?it/s]"
      ]
     },
     "metadata": {},
     "output_type": "display_data"
    },
    {
     "data": {
      "text/plain": [
       "'CPRAG Sensitivity: 0.8529411764705882'"
      ]
     },
     "execution_count": 5,
     "metadata": {},
     "output_type": "execute_result"
    }
   ],
   "source": [
    "sensitivity, (all_answers, all_preds, all_top_preds) = evaluate_encoder(model, tokenizer, dataset, device=device, output_topk=5)\n",
    "f\"CPRAG Sensitivity: {sensitivity}\""
   ]
  },
  {
   "cell_type": "code",
   "execution_count": 6,
   "id": "69db7d40",
   "metadata": {},
   "outputs": [
    {
     "data": {
      "text/plain": [
       "'CPRAG Top 5 Accuracy: 0.6470588235294118'"
      ]
     },
     "execution_count": 6,
     "metadata": {},
     "output_type": "execute_result"
    }
   ],
   "source": [
    "num_correct = 0\n",
    "tokenized_answers = torch.stack(dataset.choice_ids).gather(1, dataset.answer_ids.unsqueeze(1))\n",
    "\n",
    "for i, tokenized_answer in enumerate(tokenized_answers):\n",
    "    num_correct += 1 if tokenized_answer in all_top_preds[i] else 0\n",
    "    \n",
    "f\"CPRAG Top 5 Accuracy: {num_correct / len(tokenized_answers)}\""
   ]
  },
  {
   "cell_type": "code",
   "execution_count": 7,
   "id": "e8540734",
   "metadata": {},
   "outputs": [
    {
     "name": "stdout",
     "output_type": "stream",
     "text": [
      "2022-04-28 21:57:30 | WARNING | datasets.builder | Reusing dataset psycholinguistic_eval_dataset (/home/kzhao/.cache/huggingface/datasets/KevinZ___psycholinguistic_eval_dataset/ROLE/1.0.0/3eee8f93d6c1c8e5f6f89524f7b9c66b5d12596259913420a745eb81f2483168)\n"
     ]
    },
    {
     "data": {
      "application/vnd.jupyter.widget-view+json": {
       "model_id": "a273caf193804f34b9a8744e91b60806",
       "version_major": 2,
       "version_minor": 0
      },
      "text/plain": [
       "  0%|          | 0/1 [00:00<?, ?it/s]"
      ]
     },
     "metadata": {},
     "output_type": "display_data"
    },
    {
     "name": "stdout",
     "output_type": "stream",
     "text": [
      "2022-04-28 21:57:30 | WARNING | datasets.arrow_dataset | Loading cached processed dataset at /home/kzhao/.cache/huggingface/datasets/KevinZ___psycholinguistic_eval_dataset/ROLE/1.0.0/3eee8f93d6c1c8e5f6f89524f7b9c66b5d12596259913420a745eb81f2483168/cache-50225d784b191933.arrow\n",
      "2022-04-28 21:57:30 | WARNING | data.py | Truncated 9 tokens from answer choices.\n"
     ]
    }
   ],
   "source": [
    "dataset = load_dataset(\"KevinZ/psycholinguistic_eval\", \"ROLE\")[\"test\"]\n",
    "dataset = dataset.map(lambda ex: {\n",
    "    \"questions\": f\"{ex['context']} [MASK]\",\n",
    "    \"choices\": ex[\"expected\"].split(\"|\") + [tokenizer.mask_token] * (9 - ex[\"expected\"].count(\"|\")),\n",
    "    \"answer_ids\": 0,\n",
    "})\n",
    "\n",
    "dataset = MCDataset(dataset[\"questions\"], dataset[\"choices\"], dataset[\"answer_ids\"], 10, tokenizer, max_length=36)"
   ]
  },
  {
   "cell_type": "code",
   "execution_count": 8,
   "id": "df93a8da",
   "metadata": {},
   "outputs": [
    {
     "data": {
      "application/vnd.jupyter.widget-view+json": {
       "model_id": "cd2ac0017daa4f6d8840c3a3019a27b3",
       "version_major": 2,
       "version_minor": 0
      },
      "text/plain": [
       "Evaluating:   0%|          | 0/6 [00:00<?, ?it/s]"
      ]
     },
     "metadata": {},
     "output_type": "display_data"
    }
   ],
   "source": [
    "sensitivity, (all_answers, all_preds, all_top_preds) = evaluate_encoder(model, tokenizer, dataset, device=device, output_topk=5)"
   ]
  },
  {
   "cell_type": "code",
   "execution_count": 9,
   "id": "9c2b7e39",
   "metadata": {},
   "outputs": [
    {
     "data": {
      "text/plain": [
       "'ROLE Top 5 Accuracy: 0.4659090909090909'"
      ]
     },
     "execution_count": 9,
     "metadata": {},
     "output_type": "execute_result"
    }
   ],
   "source": [
    "num_correct = 0\n",
    "\n",
    "for i, tokenized_answer_tensor in enumerate(dataset.choice_ids):\n",
    "    tokenized_answers = list(filter((tokenizer.mask_token_id).__ne__, tokenized_answer_tensor.tolist()))\n",
    "    num_correct += 1 if not set(tokenized_answer_tensor.tolist()).isdisjoint(all_top_preds[i].tolist()) else 0\n",
    "    \n",
    "f\"ROLE Top 5 Accuracy: {num_correct / len(dataset.choice_ids)}\""
   ]
  },
  {
   "cell_type": "code",
   "execution_count": 10,
   "id": "64b373cb",
   "metadata": {},
   "outputs": [
    {
     "name": "stdout",
     "output_type": "stream",
     "text": [
      "2022-04-28 21:57:31 | WARNING | datasets.builder | Reusing dataset psycholinguistic_eval_dataset (/home/kzhao/.cache/huggingface/datasets/KevinZ___psycholinguistic_eval_dataset/NEG-NAT/1.0.0/3eee8f93d6c1c8e5f6f89524f7b9c66b5d12596259913420a745eb81f2483168)\n"
     ]
    },
    {
     "data": {
      "application/vnd.jupyter.widget-view+json": {
       "model_id": "541f6f2d2b434b9986b6a4d6a2690f6c",
       "version_major": 2,
       "version_minor": 0
      },
      "text/plain": [
       "  0%|          | 0/1 [00:00<?, ?it/s]"
      ]
     },
     "metadata": {},
     "output_type": "display_data"
    }
   ],
   "source": [
    "dataset = load_dataset(\"KevinZ/psycholinguistic_eval\", \"NEG-NAT\")[\"test\"]"
   ]
  },
  {
   "cell_type": "code",
   "execution_count": 11,
   "id": "6a57b553",
   "metadata": {},
   "outputs": [
    {
     "name": "stdout",
     "output_type": "stream",
     "text": [
      "2022-04-28 21:57:31 | WARNING | datasets.arrow_dataset | Loading cached processed dataset at /home/kzhao/.cache/huggingface/datasets/KevinZ___psycholinguistic_eval_dataset/NEG-NAT/1.0.0/3eee8f93d6c1c8e5f6f89524f7b9c66b5d12596259913420a745eb81f2483168/cache-316a5a00afc34394.arrow\n",
      "2022-04-28 21:57:31 | WARNING | datasets.arrow_dataset | Loading cached processed dataset at /home/kzhao/.cache/huggingface/datasets/KevinZ___psycholinguistic_eval_dataset/NEG-NAT/1.0.0/3eee8f93d6c1c8e5f6f89524f7b9c66b5d12596259913420a745eb81f2483168/cache-4a876888898a2194.arrow\n"
     ]
    }
   ],
   "source": [
    "def preprocess_NEGNAT_aff(example):\n",
    "    question = f'{example[\"context_aff\"]} [MASK]'\n",
    "    choices = [example[key] for key in [\"target_aff\", \"target_neg\"]]\n",
    "    random.shuffle(choices)\n",
    "    answer_id = choices.index(example[\"target_aff\"])\n",
    "\n",
    "    return {\n",
    "        \"questions\": question,\n",
    "        \"choices\": choices,\n",
    "        \"answer_ids\": answer_id,\n",
    "    }\n",
    "\n",
    "def preprocess_NEGNAT_neg(example):\n",
    "    question = f'{example[\"context_neg\"]} [MASK]'\n",
    "    choices = [example[key] for key in [\"target_aff\", \"target_neg\"]]\n",
    "    random.shuffle(choices)\n",
    "    answer_id = choices.index(example[\"target_neg\"])\n",
    "\n",
    "    return {\n",
    "        \"questions\": question,\n",
    "        \"choices\": choices,\n",
    "        \"answer_ids\": answer_id,\n",
    "    }\n",
    "\n",
    "dataset = interleave_datasets([dataset.map(preprocess_NEGNAT_aff), dataset.map(preprocess_NEGNAT_neg)])\n",
    "dataset = MCDataset(dataset[\"questions\"], dataset[\"choices\"], dataset[\"answer_ids\"], num_choices, tokenizer, max_length=36)"
   ]
  },
  {
   "cell_type": "code",
   "execution_count": 12,
   "id": "b98fab67",
   "metadata": {},
   "outputs": [
    {
     "data": {
      "application/vnd.jupyter.widget-view+json": {
       "model_id": "f0af8e5a7c6747648c9d4c62de31befd",
       "version_major": 2,
       "version_minor": 0
      },
      "text/plain": [
       "Evaluating:   0%|          | 0/2 [00:00<?, ?it/s]"
      ]
     },
     "metadata": {},
     "output_type": "display_data"
    },
    {
     "data": {
      "text/plain": [
       "'NEG-NAT Sensitivity: 0.65625'"
      ]
     },
     "execution_count": 12,
     "metadata": {},
     "output_type": "execute_result"
    }
   ],
   "source": [
    "sensitivity, (all_answers, all_preds, all_top_preds) = evaluate_encoder(model, tokenizer, dataset, device=device, output_topk=5)\n",
    "f\"NEG-NAT Sensitivity: {sensitivity}\""
   ]
  },
  {
   "cell_type": "code",
   "execution_count": 13,
   "id": "c16b8591",
   "metadata": {},
   "outputs": [
    {
     "data": {
      "text/plain": [
       "'NEG-NAT Top 5 Accuracy: 0.46875'"
      ]
     },
     "execution_count": 13,
     "metadata": {},
     "output_type": "execute_result"
    }
   ],
   "source": [
    "num_correct = 0\n",
    "tokenized_answers = torch.stack(dataset.choice_ids).gather(1, dataset.answer_ids.unsqueeze(1))\n",
    "\n",
    "for i, tokenized_answer in enumerate(tokenized_answers):\n",
    "    num_correct += 1 if tokenized_answer in all_top_preds[i] else 0\n",
    "    \n",
    "f\"NEG-NAT Top 5 Accuracy: {num_correct / len(tokenized_answers)}\""
   ]
  },
  {
   "cell_type": "code",
   "execution_count": 14,
   "id": "9ab5f325",
   "metadata": {},
   "outputs": [
    {
     "name": "stdout",
     "output_type": "stream",
     "text": [
      "2022-04-28 21:57:32 | WARNING | datasets.builder | Reusing dataset psycholinguistic_eval_dataset (/home/kzhao/.cache/huggingface/datasets/KevinZ___psycholinguistic_eval_dataset/NEG-SIMP/1.0.0/3eee8f93d6c1c8e5f6f89524f7b9c66b5d12596259913420a745eb81f2483168)\n"
     ]
    },
    {
     "data": {
      "application/vnd.jupyter.widget-view+json": {
       "model_id": "324702f43c7a4b809a5d31bca326b202",
       "version_major": 2,
       "version_minor": 0
      },
      "text/plain": [
       "  0%|          | 0/1 [00:00<?, ?it/s]"
      ]
     },
     "metadata": {},
     "output_type": "display_data"
    }
   ],
   "source": [
    "dataset = load_dataset(\"KevinZ/psycholinguistic_eval\", \"NEG-SIMP\")[\"test\"]"
   ]
  },
  {
   "cell_type": "code",
   "execution_count": 15,
   "id": "64106c83",
   "metadata": {},
   "outputs": [
    {
     "name": "stdout",
     "output_type": "stream",
     "text": [
      "2022-04-28 21:57:32 | WARNING | datasets.arrow_dataset | Loading cached processed dataset at /home/kzhao/.cache/huggingface/datasets/KevinZ___psycholinguistic_eval_dataset/NEG-SIMP/1.0.0/3eee8f93d6c1c8e5f6f89524f7b9c66b5d12596259913420a745eb81f2483168/cache-f6538eb26a5a9126.arrow\n",
      "2022-04-28 21:57:32 | WARNING | datasets.arrow_dataset | Loading cached processed dataset at /home/kzhao/.cache/huggingface/datasets/KevinZ___psycholinguistic_eval_dataset/NEG-SIMP/1.0.0/3eee8f93d6c1c8e5f6f89524f7b9c66b5d12596259913420a745eb81f2483168/cache-5262e42a3049ac65.arrow\n"
     ]
    }
   ],
   "source": [
    "def preprocess_NEGSIMP_aff(example):\n",
    "    question = f'{example[\"context_aff\"][:-7]} {\"an\" if example[\"target_aff\"][0] in \"aeiou\" else \"a\"} [MASK]'\n",
    "    choices = [example[key] for key in [\"target_aff\", \"target_neg\"]]\n",
    "    random.shuffle(choices)\n",
    "    answer_id = choices.index(example[\"target_aff\"])\n",
    "\n",
    "    return {\n",
    "        \"questions\": question,\n",
    "        \"choices\": choices,\n",
    "        \"answer_ids\": answer_id,\n",
    "    }\n",
    "\n",
    "def preprocess_NEGSIMP_neg(example):\n",
    "    question = f'{example[\"context_neg\"][:-7]} {\"an\" if example[\"target_neg\"][0] in \"aeiou\" else \"a\"} [MASK]'\n",
    "    choices = [example[key] for key in [\"target_aff\", \"target_neg\"]]\n",
    "    random.shuffle(choices)\n",
    "    answer_id = choices.index(example[\"target_neg\"])\n",
    "\n",
    "    return {\n",
    "        \"questions\": question,\n",
    "        \"choices\": choices,\n",
    "        \"answer_ids\": answer_id,\n",
    "    }\n",
    "\n",
    "dataset = interleave_datasets([dataset.map(preprocess_NEGSIMP_aff), dataset.map(preprocess_NEGSIMP_neg)])\n",
    "dataset = MCDataset(dataset[\"questions\"], dataset[\"choices\"], dataset[\"answer_ids\"], num_choices, tokenizer, max_length=36)"
   ]
  },
  {
   "cell_type": "code",
   "execution_count": 16,
   "id": "4c47e1f2",
   "metadata": {},
   "outputs": [
    {
     "data": {
      "application/vnd.jupyter.widget-view+json": {
       "model_id": "c985c9d8172c40c28983c665543e88d1",
       "version_major": 2,
       "version_minor": 0
      },
      "text/plain": [
       "Evaluating:   0%|          | 0/3 [00:00<?, ?it/s]"
      ]
     },
     "metadata": {},
     "output_type": "display_data"
    },
    {
     "data": {
      "text/plain": [
       "'NEG-SIMP Sensitivity: 0.5833333333333334'"
      ]
     },
     "execution_count": 16,
     "metadata": {},
     "output_type": "execute_result"
    }
   ],
   "source": [
    "sensitivity, (all_answers, all_preds, all_top_preds) = evaluate_encoder(model, tokenizer, dataset, device=device, output_topk=5)\n",
    "f\"NEG-SIMP Sensitivity: {sensitivity}\""
   ]
  },
  {
   "cell_type": "code",
   "execution_count": 17,
   "id": "a4e059e7",
   "metadata": {},
   "outputs": [
    {
     "data": {
      "text/plain": [
       "'NEG-SIMP Top 5 Accuracy: 0.4444444444444444'"
      ]
     },
     "execution_count": 17,
     "metadata": {},
     "output_type": "execute_result"
    }
   ],
   "source": [
    "num_correct = 0\n",
    "tokenized_answers = torch.stack(dataset.choice_ids).gather(1, dataset.answer_ids.unsqueeze(1))\n",
    "\n",
    "for i, tokenized_answer in enumerate(tokenized_answers):\n",
    "    num_correct += 1 if tokenized_answer in all_top_preds[i] else 0\n",
    "    \n",
    "f\"NEG-SIMP Top 5 Accuracy: {num_correct / len(tokenized_answers)}\""
   ]
  },
  {
   "cell_type": "code",
   "execution_count": null,
   "id": "63ec405d",
   "metadata": {},
   "outputs": [],
   "source": []
  }
 ],
 "metadata": {
  "kernelspec": {
   "display_name": "Python 3 (ipykernel)",
   "language": "python",
   "name": "python3"
  },
  "language_info": {
   "codemirror_mode": {
    "name": "ipython",
    "version": 3
   },
   "file_extension": ".py",
   "mimetype": "text/x-python",
   "name": "python",
   "nbconvert_exporter": "python",
   "pygments_lexer": "ipython3",
   "version": "3.8.10"
  }
 },
 "nbformat": 4,
 "nbformat_minor": 5
}
