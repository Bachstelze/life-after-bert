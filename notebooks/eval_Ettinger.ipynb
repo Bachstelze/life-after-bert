{
 "cells": [
  {
   "cell_type": "code",
   "execution_count": 1,
   "id": "2ac3a072",
   "metadata": {},
   "outputs": [],
   "source": [
    "import random\n",
    "\n",
    "from datasets import interleave_datasets, load_dataset\n",
    "import numpy as np\n",
    "import torch\n",
    "import transformers\n",
    "\n",
    "from life_after_bert import evaluate_encoder, MCDataset"
   ]
  },
  {
   "cell_type": "code",
   "execution_count": 2,
   "id": "116b2e29",
   "metadata": {},
   "outputs": [],
   "source": [
    "device = \"cuda\" if torch.cuda.is_available() else \"cpu\"\n",
    "\n",
    "model_name = \"roberta-large\"\n",
    "num_choices = 2"
   ]
  },
  {
   "cell_type": "code",
   "execution_count": 3,
   "id": "8f251f46",
   "metadata": {},
   "outputs": [],
   "source": [
    "model = transformers.AutoModelForMaskedLM.from_pretrained(model_name)\n",
    "tokenizer = transformers.AutoTokenizer.from_pretrained(model_name)"
   ]
  },
  {
   "cell_type": "code",
   "execution_count": 4,
   "id": "377ef113",
   "metadata": {},
   "outputs": [
    {
     "name": "stdout",
     "output_type": "stream",
     "text": [
      "2022-04-21 11:50:30 | WARNING | datasets.builder | Reusing dataset psycholinguistic_eval_dataset (/home/kzhao/.cache/huggingface/datasets/KevinZ___psycholinguistic_eval_dataset/CPRAG/1.0.0/3eee8f93d6c1c8e5f6f89524f7b9c66b5d12596259913420a745eb81f2483168)\n"
     ]
    },
    {
     "data": {
      "application/vnd.jupyter.widget-view+json": {
       "model_id": "37f53de4921343d5a64b79941edf8540",
       "version_major": 2,
       "version_minor": 0
      },
      "text/plain": [
       "  0%|          | 0/1 [00:00<?, ?it/s]"
      ]
     },
     "metadata": {},
     "output_type": "display_data"
    },
    {
     "data": {
      "application/vnd.jupyter.widget-view+json": {
       "model_id": "f291988ebac54cd2b691dab148950085",
       "version_major": 2,
       "version_minor": 0
      },
      "text/plain": [
       "  0%|          | 0/34 [00:00<?, ?ex/s]"
      ]
     },
     "metadata": {},
     "output_type": "display_data"
    },
    {
     "name": "stdout",
     "output_type": "stream",
     "text": [
      "2022-04-21 11:50:31 | WARNING | data.py | Truncated 13 tokens from answer choices.\n"
     ]
    }
   ],
   "source": [
    "dataset = load_dataset(\"KevinZ/psycholinguistic_eval\", \"CPRAG\")[\"test\"]\n",
    "\n",
    "def preprocess_CPRAG(example):\n",
    "    question = f'{example[\"context_s1\"]} {example[\"context_s2\"]} [MASK]'\n",
    "    choices = [example[key] for key in [\"expected\", \"within_category\", \"between_category\"]]\n",
    "    random.shuffle(choices)\n",
    "    answer_id = choices.index(example[\"expected\"])\n",
    "\n",
    "    return {\n",
    "        \"questions\": question,\n",
    "        \"choices\": choices,\n",
    "        \"answer_ids\": answer_id,\n",
    "    }\n",
    "\n",
    "dataset = dataset.map(preprocess_CPRAG)\n",
    "dataset = MCDataset(dataset[\"questions\"], dataset[\"choices\"], dataset[\"answer_ids\"], num_choices, tokenizer, max_length=36)"
   ]
  },
  {
   "cell_type": "code",
   "execution_count": 5,
   "id": "f1e43511",
   "metadata": {},
   "outputs": [
    {
     "data": {
      "application/vnd.jupyter.widget-view+json": {
       "model_id": "df0073c877504e7995431c653eb385cf",
       "version_major": 2,
       "version_minor": 0
      },
      "text/plain": [
       "Evaluating:   0%|          | 0/3 [00:00<?, ?it/s]"
      ]
     },
     "metadata": {},
     "output_type": "display_data"
    },
    {
     "data": {
      "text/plain": [
       "'CPRAG Sensitivity: 0.8529411764705882'"
      ]
     },
     "execution_count": 5,
     "metadata": {},
     "output_type": "execute_result"
    }
   ],
   "source": [
    "sensitivity, (all_answers, all_preds, all_top_preds) = evaluate_encoder(model, tokenizer, dataset, device=device, output_topk=5)\n",
    "f\"CPRAG Sensitivity: {sensitivity}\""
   ]
  },
  {
   "cell_type": "code",
   "execution_count": 6,
   "id": "69db7d40",
   "metadata": {},
   "outputs": [
    {
     "data": {
      "text/plain": [
       "'CPRAG Top 5 Accuracy: 0.6470588235294118'"
      ]
     },
     "execution_count": 6,
     "metadata": {},
     "output_type": "execute_result"
    }
   ],
   "source": [
    "num_correct = 0\n",
    "tokenized_answers = torch.stack(dataset.choice_ids).gather(1, dataset.answer_ids.unsqueeze(1))\n",
    "\n",
    "for i, tokenized_answer in enumerate(tokenized_answers):\n",
    "    num_correct += 1 if tokenized_answer in all_top_preds[i] else 0\n",
    "    \n",
    "f\"CPRAG Top 5 Accuracy: {num_correct / len(tokenized_answers)}\""
   ]
  },
  {
   "cell_type": "code",
   "execution_count": 7,
   "id": "e8540734",
   "metadata": {},
   "outputs": [
    {
     "name": "stdout",
     "output_type": "stream",
     "text": [
      "Downloading and preparing dataset psycholinguistic_eval_dataset/ROLE (download: 15.61 KiB, generated: 6.14 KiB, post-processed: Unknown size, total: 21.76 KiB) to /home/kzhao/.cache/huggingface/datasets/KevinZ___psycholinguistic_eval_dataset/ROLE/1.0.0/3eee8f93d6c1c8e5f6f89524f7b9c66b5d12596259913420a745eb81f2483168...\n"
     ]
    },
    {
     "data": {
      "application/vnd.jupyter.widget-view+json": {
       "model_id": "1e57c97676a743929833c012df889f2a",
       "version_major": 2,
       "version_minor": 0
      },
      "text/plain": [
       "Downloading data files:   0%|          | 0/4 [00:00<?, ?it/s]"
      ]
     },
     "metadata": {},
     "output_type": "display_data"
    },
    {
     "data": {
      "application/vnd.jupyter.widget-view+json": {
       "model_id": "b924216be46f40e8930ea86060d1eb31",
       "version_major": 2,
       "version_minor": 0
      },
      "text/plain": [
       "Extracting data files:   0%|          | 0/4 [00:00<?, ?it/s]"
      ]
     },
     "metadata": {},
     "output_type": "display_data"
    },
    {
     "data": {
      "application/vnd.jupyter.widget-view+json": {
       "model_id": "",
       "version_major": 2,
       "version_minor": 0
      },
      "text/plain": [
       "Generating test split:   0%|          | 0/88 [00:00<?, ? examples/s]"
      ]
     },
     "metadata": {},
     "output_type": "display_data"
    },
    {
     "name": "stdout",
     "output_type": "stream",
     "text": [
      "Dataset psycholinguistic_eval_dataset downloaded and prepared to /home/kzhao/.cache/huggingface/datasets/KevinZ___psycholinguistic_eval_dataset/ROLE/1.0.0/3eee8f93d6c1c8e5f6f89524f7b9c66b5d12596259913420a745eb81f2483168. Subsequent calls will reuse this data.\n"
     ]
    },
    {
     "data": {
      "application/vnd.jupyter.widget-view+json": {
       "model_id": "a84c7228085849cd83ee5ca3cd59bfbf",
       "version_major": 2,
       "version_minor": 0
      },
      "text/plain": [
       "  0%|          | 0/1 [00:00<?, ?it/s]"
      ]
     },
     "metadata": {},
     "output_type": "display_data"
    },
    {
     "data": {
      "application/vnd.jupyter.widget-view+json": {
       "model_id": "a3ee160cac9345868c29863f5dfe8a31",
       "version_major": 2,
       "version_minor": 0
      },
      "text/plain": [
       "  0%|          | 0/88 [00:00<?, ?ex/s]"
      ]
     },
     "metadata": {},
     "output_type": "display_data"
    },
    {
     "name": "stdout",
     "output_type": "stream",
     "text": [
      "2022-04-21 11:50:47 | WARNING | data.py | Truncated 9 tokens from answer choices.\n"
     ]
    }
   ],
   "source": [
    "dataset = load_dataset(\"KevinZ/psycholinguistic_eval\", \"ROLE\")[\"test\"]\n",
    "dataset = dataset.map(lambda ex: {\n",
    "    \"questions\": f\"{ex['context']} [MASK]\",\n",
    "    \"choices\": ex[\"expected\"].split(\"|\") + [tokenizer.mask_token] * (9 - ex[\"expected\"].count(\"|\")),\n",
    "    \"answer_ids\": 0,\n",
    "})\n",
    "\n",
    "dataset = MCDataset(dataset[\"questions\"], dataset[\"choices\"], dataset[\"answer_ids\"], 10, tokenizer, max_length=36)"
   ]
  },
  {
   "cell_type": "code",
   "execution_count": 8,
   "id": "df93a8da",
   "metadata": {},
   "outputs": [
    {
     "data": {
      "application/vnd.jupyter.widget-view+json": {
       "model_id": "1234993d7fab4108bb0833546cfbe4dc",
       "version_major": 2,
       "version_minor": 0
      },
      "text/plain": [
       "Evaluating:   0%|          | 0/6 [00:00<?, ?it/s]"
      ]
     },
     "metadata": {},
     "output_type": "display_data"
    }
   ],
   "source": [
    "sensitivity, (all_answers, all_preds, all_top_preds) = evaluate_encoder(model, tokenizer, dataset, device=device, output_topk=5)"
   ]
  },
  {
   "cell_type": "code",
   "execution_count": 9,
   "id": "9c2b7e39",
   "metadata": {},
   "outputs": [
    {
     "data": {
      "text/plain": [
       "'ROLE Top 5 Accuracy: 0.4659090909090909'"
      ]
     },
     "execution_count": 9,
     "metadata": {},
     "output_type": "execute_result"
    }
   ],
   "source": [
    "num_correct = 0\n",
    "\n",
    "for i, tokenized_answer_tensor in enumerate(dataset.choice_ids):\n",
    "    tokenized_answers = list(filter((tokenizer.mask_token_id).__ne__, tokenized_answer_tensor.tolist()))\n",
    "    num_correct += 1 if not set(tokenized_answer_tensor.tolist()).isdisjoint(all_top_preds[i].tolist()) else 0\n",
    "    \n",
    "f\"ROLE Top 5 Accuracy: {num_correct / len(dataset.choice_ids)}\""
   ]
  },
  {
   "cell_type": "code",
   "execution_count": 10,
   "id": "64b373cb",
   "metadata": {},
   "outputs": [
    {
     "name": "stdout",
     "output_type": "stream",
     "text": [
      "Downloading and preparing dataset psycholinguistic_eval_dataset/NEG-NAT (download: 15.61 KiB, generated: 1.51 KiB, post-processed: Unknown size, total: 17.12 KiB) to /home/kzhao/.cache/huggingface/datasets/KevinZ___psycholinguistic_eval_dataset/NEG-NAT/1.0.0/3eee8f93d6c1c8e5f6f89524f7b9c66b5d12596259913420a745eb81f2483168...\n"
     ]
    },
    {
     "data": {
      "application/vnd.jupyter.widget-view+json": {
       "model_id": "0dffd50c4c8f412a9268df461336a0a9",
       "version_major": 2,
       "version_minor": 0
      },
      "text/plain": [
       "Downloading data files:   0%|          | 0/4 [00:00<?, ?it/s]"
      ]
     },
     "metadata": {},
     "output_type": "display_data"
    },
    {
     "data": {
      "application/vnd.jupyter.widget-view+json": {
       "model_id": "113e794479db4d40ba5024ba493f9dc7",
       "version_major": 2,
       "version_minor": 0
      },
      "text/plain": [
       "Extracting data files:   0%|          | 0/4 [00:00<?, ?it/s]"
      ]
     },
     "metadata": {},
     "output_type": "display_data"
    },
    {
     "data": {
      "application/vnd.jupyter.widget-view+json": {
       "model_id": "",
       "version_major": 2,
       "version_minor": 0
      },
      "text/plain": [
       "Generating test split:   0%|          | 0/16 [00:00<?, ? examples/s]"
      ]
     },
     "metadata": {},
     "output_type": "display_data"
    },
    {
     "name": "stdout",
     "output_type": "stream",
     "text": [
      "Dataset psycholinguistic_eval_dataset downloaded and prepared to /home/kzhao/.cache/huggingface/datasets/KevinZ___psycholinguistic_eval_dataset/NEG-NAT/1.0.0/3eee8f93d6c1c8e5f6f89524f7b9c66b5d12596259913420a745eb81f2483168. Subsequent calls will reuse this data.\n"
     ]
    },
    {
     "data": {
      "application/vnd.jupyter.widget-view+json": {
       "model_id": "3883f1dd93be4dd48c2f1b50f72a821a",
       "version_major": 2,
       "version_minor": 0
      },
      "text/plain": [
       "  0%|          | 0/1 [00:00<?, ?it/s]"
      ]
     },
     "metadata": {},
     "output_type": "display_data"
    }
   ],
   "source": [
    "dataset = load_dataset(\"KevinZ/psycholinguistic_eval\", \"NEG-NAT\")[\"test\"]"
   ]
  },
  {
   "cell_type": "code",
   "execution_count": 11,
   "id": "6a57b553",
   "metadata": {},
   "outputs": [
    {
     "data": {
      "application/vnd.jupyter.widget-view+json": {
       "model_id": "34b5560b03e94dd7990be7112b9b4f24",
       "version_major": 2,
       "version_minor": 0
      },
      "text/plain": [
       "  0%|          | 0/16 [00:00<?, ?ex/s]"
      ]
     },
     "metadata": {},
     "output_type": "display_data"
    },
    {
     "data": {
      "application/vnd.jupyter.widget-view+json": {
       "model_id": "5ba7cc34d7534b4394ae2c5afb2d93d6",
       "version_major": 2,
       "version_minor": 0
      },
      "text/plain": [
       "  0%|          | 0/16 [00:00<?, ?ex/s]"
      ]
     },
     "metadata": {},
     "output_type": "display_data"
    }
   ],
   "source": [
    "def preprocess_NEGNAT_aff(example):\n",
    "    question = f'{example[\"context_aff\"]} [MASK]'\n",
    "    choices = [example[key] for key in [\"target_aff\", \"target_neg\"]]\n",
    "    random.shuffle(choices)\n",
    "    answer_id = choices.index(example[\"target_aff\"])\n",
    "\n",
    "    return {\n",
    "        \"questions\": question,\n",
    "        \"choices\": choices,\n",
    "        \"answer_ids\": answer_id,\n",
    "    }\n",
    "\n",
    "def preprocess_NEGNAT_neg(example):\n",
    "    question = f'{example[\"context_neg\"]} [MASK]'\n",
    "    choices = [example[key] for key in [\"target_aff\", \"target_neg\"]]\n",
    "    random.shuffle(choices)\n",
    "    answer_id = choices.index(example[\"target_neg\"])\n",
    "\n",
    "    return {\n",
    "        \"questions\": question,\n",
    "        \"choices\": choices,\n",
    "        \"answer_ids\": answer_id,\n",
    "    }\n",
    "\n",
    "dataset = interleave_datasets([dataset.map(preprocess_NEGNAT_aff), dataset.map(preprocess_NEGNAT_neg)])\n",
    "dataset = MCDataset(dataset[\"questions\"], dataset[\"choices\"], dataset[\"answer_ids\"], num_choices, tokenizer, max_length=36)"
   ]
  },
  {
   "cell_type": "code",
   "execution_count": 12,
   "id": "b98fab67",
   "metadata": {},
   "outputs": [
    {
     "data": {
      "application/vnd.jupyter.widget-view+json": {
       "model_id": "318c522af82d40509883cb3f200a518a",
       "version_major": 2,
       "version_minor": 0
      },
      "text/plain": [
       "Evaluating:   0%|          | 0/2 [00:00<?, ?it/s]"
      ]
     },
     "metadata": {},
     "output_type": "display_data"
    },
    {
     "data": {
      "text/plain": [
       "'NEG-NAT Sensitivity: 0.65625'"
      ]
     },
     "execution_count": 12,
     "metadata": {},
     "output_type": "execute_result"
    }
   ],
   "source": [
    "sensitivity, (all_answers, all_preds, all_top_preds) = evaluate_encoder(model, tokenizer, dataset, device=device, output_topk=5)\n",
    "f\"NEG-NAT Sensitivity: {sensitivity}\""
   ]
  },
  {
   "cell_type": "code",
   "execution_count": 13,
   "id": "c16b8591",
   "metadata": {},
   "outputs": [
    {
     "data": {
      "text/plain": [
       "'NEG-NAT Top 5 Accuracy: 0.46875'"
      ]
     },
     "execution_count": 13,
     "metadata": {},
     "output_type": "execute_result"
    }
   ],
   "source": [
    "num_correct = 0\n",
    "tokenized_answers = torch.stack(dataset.choice_ids).gather(1, dataset.answer_ids.unsqueeze(1))\n",
    "\n",
    "for i, tokenized_answer in enumerate(tokenized_answers):\n",
    "    num_correct += 1 if tokenized_answer in all_top_preds[i] else 0\n",
    "    \n",
    "f\"NEG-NAT Top 5 Accuracy: {num_correct / len(tokenized_answers)}\""
   ]
  },
  {
   "cell_type": "code",
   "execution_count": 14,
   "id": "9ab5f325",
   "metadata": {},
   "outputs": [
    {
     "name": "stdout",
     "output_type": "stream",
     "text": [
      "Downloading and preparing dataset psycholinguistic_eval_dataset/NEG-SIMP (download: 15.61 KiB, generated: 1.14 KiB, post-processed: Unknown size, total: 16.75 KiB) to /home/kzhao/.cache/huggingface/datasets/KevinZ___psycholinguistic_eval_dataset/NEG-SIMP/1.0.0/3eee8f93d6c1c8e5f6f89524f7b9c66b5d12596259913420a745eb81f2483168...\n"
     ]
    },
    {
     "data": {
      "application/vnd.jupyter.widget-view+json": {
       "model_id": "fd7416c5d7a546679c1722eee3fccc37",
       "version_major": 2,
       "version_minor": 0
      },
      "text/plain": [
       "Downloading data files:   0%|          | 0/4 [00:00<?, ?it/s]"
      ]
     },
     "metadata": {},
     "output_type": "display_data"
    },
    {
     "data": {
      "application/vnd.jupyter.widget-view+json": {
       "model_id": "8819c164e3c94cb5925a15e9b92c86c9",
       "version_major": 2,
       "version_minor": 0
      },
      "text/plain": [
       "Extracting data files:   0%|          | 0/4 [00:00<?, ?it/s]"
      ]
     },
     "metadata": {},
     "output_type": "display_data"
    },
    {
     "data": {
      "application/vnd.jupyter.widget-view+json": {
       "model_id": "",
       "version_major": 2,
       "version_minor": 0
      },
      "text/plain": [
       "Generating test split:   0%|          | 0/18 [00:00<?, ? examples/s]"
      ]
     },
     "metadata": {},
     "output_type": "display_data"
    },
    {
     "name": "stdout",
     "output_type": "stream",
     "text": [
      "Dataset psycholinguistic_eval_dataset downloaded and prepared to /home/kzhao/.cache/huggingface/datasets/KevinZ___psycholinguistic_eval_dataset/NEG-SIMP/1.0.0/3eee8f93d6c1c8e5f6f89524f7b9c66b5d12596259913420a745eb81f2483168. Subsequent calls will reuse this data.\n"
     ]
    },
    {
     "data": {
      "application/vnd.jupyter.widget-view+json": {
       "model_id": "c0776630ee0444afb213c0fc7ad50846",
       "version_major": 2,
       "version_minor": 0
      },
      "text/plain": [
       "  0%|          | 0/1 [00:00<?, ?it/s]"
      ]
     },
     "metadata": {},
     "output_type": "display_data"
    }
   ],
   "source": [
    "dataset = load_dataset(\"KevinZ/psycholinguistic_eval\", \"NEG-SIMP\")[\"test\"]"
   ]
  },
  {
   "cell_type": "code",
   "execution_count": 15,
   "id": "172600bf",
   "metadata": {},
   "outputs": [
    {
     "data": {
      "text/plain": [
       "['A trout is (a|an)',\n",
       " 'A salmon is (a|an)',\n",
       " 'An ant is (a|an)',\n",
       " 'A bee is (a|an)',\n",
       " 'A robin is (a|an)',\n",
       " 'A sparrow is (a|an)',\n",
       " 'An oak is (a|an)',\n",
       " 'A pine is (a|an)',\n",
       " 'A rose is (a|an)',\n",
       " 'A daisy is (a|an)',\n",
       " 'A carrot is (a|an)',\n",
       " 'A pea is (a|an)',\n",
       " 'A hammer is (a|an)',\n",
       " 'A saw is (a|an)',\n",
       " 'A car is (a|an)',\n",
       " 'A truck is (a|an)',\n",
       " 'A hotel is (a|an)',\n",
       " 'A house is (a|an)']"
      ]
     },
     "execution_count": 15,
     "metadata": {},
     "output_type": "execute_result"
    }
   ],
   "source": [
    "dataset[\"context_aff\"]"
   ]
  },
  {
   "cell_type": "code",
   "execution_count": null,
   "id": "15bbc10a",
   "metadata": {},
   "outputs": [],
   "source": []
  }
 ],
 "metadata": {
  "kernelspec": {
   "display_name": "Python 3 (ipykernel)",
   "language": "python",
   "name": "python3"
  },
  "language_info": {
   "codemirror_mode": {
    "name": "ipython",
    "version": 3
   },
   "file_extension": ".py",
   "mimetype": "text/x-python",
   "name": "python",
   "nbconvert_exporter": "python",
   "pygments_lexer": "ipython3",
   "version": "3.8.10"
  }
 },
 "nbformat": 4,
 "nbformat_minor": 5
}
