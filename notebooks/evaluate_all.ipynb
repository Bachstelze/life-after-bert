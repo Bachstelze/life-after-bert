{
 "cells": [
  {
   "cell_type": "code",
   "execution_count": 1,
   "metadata": {},
   "outputs": [],
   "source": [
    "import torch\n",
    "import transformers\n",
    "\n",
    "from life_after_bert import LaBEvaluator"
   ]
  },
  {
   "cell_type": "code",
   "execution_count": 2,
   "metadata": {},
   "outputs": [],
   "source": [
    "device = \"cuda\" if torch.cuda.is_available() else \"cpu\"\n",
    "\n",
    "model = transformers.AutoModelForMaskedLM.from_pretrained(\"roberta-large\")\n",
    "tokenizer = transformers.AutoTokenizer.from_pretrained(\"roberta-large\")"
   ]
  },
  {
   "cell_type": "code",
   "execution_count": 3,
   "metadata": {},
   "outputs": [
    {
     "name": "stdout",
     "output_type": "stream",
     "text": [
      "2022-04-21 11:57:24 | INFO | data.py | Loading jsonl file from /home/kzhao/life-after-bert/tests/data/oLMpics_age_comparison_dev.jsonl\n"
     ]
    },
    {
     "data": {
      "application/vnd.jupyter.widget-view+json": {
       "model_id": "c916f3b5b96e43dbbe2bf3b4695e24b0",
       "version_major": 2,
       "version_minor": 0
      },
      "text/plain": [
       "Evaluating:   0%|          | 0/32 [00:00<?, ?it/s]"
      ]
     },
     "metadata": {},
     "output_type": "display_data"
    },
    {
     "name": "stdout",
     "output_type": "stream",
     "text": [
      "2022-04-21 11:57:28 | INFO | eval.py | Accuracy on Age Comparison: 0.986\n",
      "2022-04-21 11:57:28 | INFO | data.py | Loading jsonl file from /home/kzhao/life-after-bert/tests/data/oLMpics_always_never_dev.jsonl\n"
     ]
    },
    {
     "data": {
      "application/vnd.jupyter.widget-view+json": {
       "model_id": "f30b6cf0ef8b457d83eba5d7a121d0c4",
       "version_major": 2,
       "version_minor": 0
      },
      "text/plain": [
       "Evaluating:   0%|          | 0/18 [00:00<?, ?it/s]"
      ]
     },
     "metadata": {},
     "output_type": "display_data"
    },
    {
     "name": "stdout",
     "output_type": "stream",
     "text": [
      "2022-04-21 11:57:29 | INFO | eval.py | Accuracy on Always Never: 0.1357142857142857\n",
      "2022-04-21 11:57:29 | INFO | data.py | Loading jsonl file from /home/kzhao/life-after-bert/tests/data/oLMpics_antonym_negation_dev.jsonl\n"
     ]
    },
    {
     "data": {
      "application/vnd.jupyter.widget-view+json": {
       "model_id": "208dd978dc414ad68d03d31404d1c120",
       "version_major": 2,
       "version_minor": 0
      },
      "text/plain": [
       "Evaluating:   0%|          | 0/32 [00:00<?, ?it/s]"
      ]
     },
     "metadata": {},
     "output_type": "display_data"
    },
    {
     "name": "stdout",
     "output_type": "stream",
     "text": [
      "2022-04-21 11:57:31 | INFO | eval.py | Accuracy on Antonym Negation: 0.744\n",
      "2022-04-21 11:57:31 | INFO | data.py | Loading jsonl file from /home/kzhao/life-after-bert/tests/data/oLMpics_multihop_composition_dev.jsonl\n"
     ]
    },
    {
     "data": {
      "application/vnd.jupyter.widget-view+json": {
       "model_id": "658badfd678d4876aa9dd966963dc0f8",
       "version_major": 2,
       "version_minor": 0
      },
      "text/plain": [
       "Evaluating:   0%|          | 0/32 [00:00<?, ?it/s]"
      ]
     },
     "metadata": {},
     "output_type": "display_data"
    },
    {
     "name": "stdout",
     "output_type": "stream",
     "text": [
      "2022-04-21 11:57:32 | INFO | eval.py | Accuracy on Multihop Composition: 0.28\n",
      "2022-04-21 11:57:32 | INFO | data.py | Loading jsonl file from /home/kzhao/life-after-bert/tests/data/oLMpics_size_comparison_dev.jsonl\n"
     ]
    },
    {
     "data": {
      "application/vnd.jupyter.widget-view+json": {
       "model_id": "5e1bc92131744d3c904819a4228b955b",
       "version_major": 2,
       "version_minor": 0
      },
      "text/plain": [
       "Evaluating:   0%|          | 0/32 [00:00<?, ?it/s]"
      ]
     },
     "metadata": {},
     "output_type": "display_data"
    },
    {
     "name": "stdout",
     "output_type": "stream",
     "text": [
      "2022-04-21 11:57:34 | INFO | eval.py | Accuracy on Size Comparison: 0.874\n",
      "2022-04-21 11:57:34 | INFO | data.py | Loading jsonl file from /home/kzhao/life-after-bert/tests/data/oLMpics_taxonomy_conjunction_dev.jsonl\n",
      "2022-04-21 11:57:34 | WARNING | data.py | Truncated 71 tokens from answer choices.\n"
     ]
    },
    {
     "data": {
      "application/vnd.jupyter.widget-view+json": {
       "model_id": "4b160e88b376494d9a6d3cd42ea60b55",
       "version_major": 2,
       "version_minor": 0
      },
      "text/plain": [
       "Evaluating:   0%|          | 0/38 [00:00<?, ?it/s]"
      ]
     },
     "metadata": {},
     "output_type": "display_data"
    },
    {
     "name": "stdout",
     "output_type": "stream",
     "text": [
      "2022-04-21 11:57:36 | INFO | eval.py | Accuracy on Taxonomy Conjunction: 0.4540901502504174\n"
     ]
    },
    {
     "data": {
      "text/plain": [
       "{'Age Comparison': 0.986,\n",
       " 'Always Never': 0.1357142857142857,\n",
       " 'Antonym Negation': 0.744,\n",
       " 'Multihop Composition': 0.28,\n",
       " 'Size Comparison': 0.874,\n",
       " 'Taxonomy Conjunction': 0.4540901502504174}"
      ]
     },
     "execution_count": 3,
     "metadata": {},
     "output_type": "execute_result"
    }
   ],
   "source": [
    "task_infos = [\n",
    "    (\"Age Comparison\", 2), \n",
    "    (\"Always Never\", 5), \n",
    "    (\"Antonym Negation\", 2), \n",
    "    (\"Multihop Composition\", 3), \n",
    "    (\"Size Comparison\", 2),\n",
    "    (\"Taxonomy Conjunction\", 3)\n",
    "]\n",
    "\n",
    "evaluator = LaBEvaluator()\n",
    "task_accs = evaluator.evaluate(model, tokenizer, task_infos, model_arch=\"encoder\", device=device)\n",
    "task_accs"
   ]
  },
  {
   "cell_type": "code",
   "execution_count": 4,
   "metadata": {},
   "outputs": [
    {
     "name": "stderr",
     "output_type": "stream",
     "text": [
      "Special tokens have been added in the vocabulary, make sure the associated word embeddings are fine-tuned or trained.\n"
     ]
    },
    {
     "name": "stdout",
     "output_type": "stream",
     "text": [
      "2022-04-21 11:57:52 | INFO | data.py | Loading jsonl file from /home/kzhao/life-after-bert/tests/data/oLMpics_age_comparison_dev.jsonl\n"
     ]
    },
    {
     "name": "stderr",
     "output_type": "stream",
     "text": [
      "Using pad_token, but it is not set yet.\n"
     ]
    },
    {
     "name": "stdout",
     "output_type": "stream",
     "text": [
      "2022-04-21 11:57:52 | WARNING | data.py | Setting tokenizer's pad_token to eos_token\n"
     ]
    },
    {
     "data": {
      "application/vnd.jupyter.widget-view+json": {
       "model_id": "6316725224d046f380bcab8f73385173",
       "version_major": 2,
       "version_minor": 0
      },
      "text/plain": [
       "Evaluating:   0%|          | 0/32 [00:00<?, ?it/s]"
      ]
     },
     "metadata": {},
     "output_type": "display_data"
    },
    {
     "name": "stdout",
     "output_type": "stream",
     "text": [
      "2022-04-21 11:58:00 | INFO | eval.py | Accuracy on Age Comparison: 0.696\n",
      "2022-04-21 11:58:00 | INFO | data.py | Loading jsonl file from /home/kzhao/life-after-bert/tests/data/oLMpics_always_never_dev.jsonl\n"
     ]
    },
    {
     "data": {
      "application/vnd.jupyter.widget-view+json": {
       "model_id": "215003200f2e48d2b5ebe9b207191c32",
       "version_major": 2,
       "version_minor": 0
      },
      "text/plain": [
       "Evaluating:   0%|          | 0/18 [00:00<?, ?it/s]"
      ]
     },
     "metadata": {},
     "output_type": "display_data"
    },
    {
     "name": "stdout",
     "output_type": "stream",
     "text": [
      "2022-04-21 11:58:09 | INFO | eval.py | Accuracy on Always Never: 0.2571428571428571\n",
      "2022-04-21 11:58:09 | INFO | data.py | Loading jsonl file from /home/kzhao/life-after-bert/tests/data/oLMpics_antonym_negation_dev.jsonl\n"
     ]
    },
    {
     "data": {
      "application/vnd.jupyter.widget-view+json": {
       "model_id": "ae0fb3a18acd4ef7a1700bb7da9af186",
       "version_major": 2,
       "version_minor": 0
      },
      "text/plain": [
       "Evaluating:   0%|          | 0/32 [00:00<?, ?it/s]"
      ]
     },
     "metadata": {},
     "output_type": "display_data"
    },
    {
     "name": "stdout",
     "output_type": "stream",
     "text": [
      "2022-04-21 11:58:17 | INFO | eval.py | Accuracy on Antonym Negation: 0.586\n",
      "2022-04-21 11:58:17 | INFO | data.py | Loading jsonl file from /home/kzhao/life-after-bert/tests/data/oLMpics_multihop_composition_dev.jsonl\n"
     ]
    },
    {
     "data": {
      "application/vnd.jupyter.widget-view+json": {
       "model_id": "44957850d99642cc943bf348c8a5f9d8",
       "version_major": 2,
       "version_minor": 0
      },
      "text/plain": [
       "Evaluating:   0%|          | 0/32 [00:00<?, ?it/s]"
      ]
     },
     "metadata": {},
     "output_type": "display_data"
    },
    {
     "name": "stdout",
     "output_type": "stream",
     "text": [
      "2022-04-21 11:58:27 | INFO | eval.py | Accuracy on Multihop Composition: 0.338\n",
      "2022-04-21 11:58:27 | INFO | data.py | Loading jsonl file from /home/kzhao/life-after-bert/tests/data/oLMpics_size_comparison_dev.jsonl\n"
     ]
    },
    {
     "data": {
      "application/vnd.jupyter.widget-view+json": {
       "model_id": "661e01eaffe6424ea66b9531383aed67",
       "version_major": 2,
       "version_minor": 0
      },
      "text/plain": [
       "Evaluating:   0%|          | 0/32 [00:00<?, ?it/s]"
      ]
     },
     "metadata": {},
     "output_type": "display_data"
    },
    {
     "name": "stdout",
     "output_type": "stream",
     "text": [
      "2022-04-21 11:58:34 | INFO | eval.py | Accuracy on Size Comparison: 0.508\n",
      "2022-04-21 11:58:34 | INFO | data.py | Loading jsonl file from /home/kzhao/life-after-bert/tests/data/oLMpics_taxonomy_conjunction_dev.jsonl\n",
      "2022-04-21 11:58:34 | WARNING | data.py | Truncated 71 tokens from answer choices.\n"
     ]
    },
    {
     "data": {
      "application/vnd.jupyter.widget-view+json": {
       "model_id": "54fd8da1217242b298655d53e8ef151c",
       "version_major": 2,
       "version_minor": 0
      },
      "text/plain": [
       "Evaluating:   0%|          | 0/38 [00:00<?, ?it/s]"
      ]
     },
     "metadata": {},
     "output_type": "display_data"
    },
    {
     "name": "stdout",
     "output_type": "stream",
     "text": [
      "2022-04-21 11:58:47 | INFO | eval.py | Accuracy on Taxonomy Conjunction: 0.39065108514190316\n"
     ]
    },
    {
     "data": {
      "text/plain": [
       "{'Age Comparison': 0.696,\n",
       " 'Always Never': 0.2571428571428571,\n",
       " 'Antonym Negation': 0.586,\n",
       " 'Multihop Composition': 0.338,\n",
       " 'Size Comparison': 0.508,\n",
       " 'Taxonomy Conjunction': 0.39065108514190316}"
      ]
     },
     "execution_count": 4,
     "metadata": {},
     "output_type": "execute_result"
    }
   ],
   "source": [
    "model = transformers.AutoModelForCausalLM.from_pretrained(\"gpt2-large\")\n",
    "tokenizer = transformers.AutoTokenizer.from_pretrained(\"gpt2-large\", mask_token=\"[MASK]\")\n",
    "task_accs = evaluator.evaluate(model, tokenizer, task_infos, model_arch=\"decoder\", device=device)\n",
    "task_accs"
   ]
  },
  {
   "cell_type": "code",
   "execution_count": 5,
   "metadata": {},
   "outputs": [
    {
     "name": "stdout",
     "output_type": "stream",
     "text": [
      "2022-04-21 11:59:01 | INFO | data.py | Loading jsonl file from /home/kzhao/life-after-bert/tests/data/oLMpics_age_comparison_dev.jsonl\n",
      "2022-04-21 11:59:01 | WARNING | eval.py | Assuming T5.\n"
     ]
    },
    {
     "data": {
      "application/vnd.jupyter.widget-view+json": {
       "model_id": "a9a4c22fac3447609e50a9cad12c0ab6",
       "version_major": 2,
       "version_minor": 0
      },
      "text/plain": [
       "Evaluating:   0%|          | 0/32 [00:00<?, ?it/s]"
      ]
     },
     "metadata": {},
     "output_type": "display_data"
    },
    {
     "name": "stdout",
     "output_type": "stream",
     "text": [
      "2022-04-21 11:59:04 | INFO | eval.py | Accuracy on Age Comparison: 0.94\n",
      "2022-04-21 11:59:04 | INFO | data.py | Loading jsonl file from /home/kzhao/life-after-bert/tests/data/oLMpics_always_never_dev.jsonl\n"
     ]
    },
    {
     "data": {
      "application/vnd.jupyter.widget-view+json": {
       "model_id": "6e896455988e4521b84beddb1325f834",
       "version_major": 2,
       "version_minor": 0
      },
      "text/plain": [
       "Evaluating:   0%|          | 0/18 [00:00<?, ?it/s]"
      ]
     },
     "metadata": {},
     "output_type": "display_data"
    },
    {
     "name": "stdout",
     "output_type": "stream",
     "text": [
      "2022-04-21 11:59:05 | INFO | eval.py | Accuracy on Always Never: 0.2571428571428571\n",
      "2022-04-21 11:59:05 | INFO | data.py | Loading jsonl file from /home/kzhao/life-after-bert/tests/data/oLMpics_antonym_negation_dev.jsonl\n"
     ]
    },
    {
     "data": {
      "application/vnd.jupyter.widget-view+json": {
       "model_id": "a9f08105f80b4853951acfa9ddbe2287",
       "version_major": 2,
       "version_minor": 0
      },
      "text/plain": [
       "Evaluating:   0%|          | 0/32 [00:00<?, ?it/s]"
      ]
     },
     "metadata": {},
     "output_type": "display_data"
    },
    {
     "name": "stdout",
     "output_type": "stream",
     "text": [
      "2022-04-21 11:59:07 | INFO | eval.py | Accuracy on Antonym Negation: 0.646\n",
      "2022-04-21 11:59:07 | INFO | data.py | Loading jsonl file from /home/kzhao/life-after-bert/tests/data/oLMpics_multihop_composition_dev.jsonl\n"
     ]
    },
    {
     "data": {
      "application/vnd.jupyter.widget-view+json": {
       "model_id": "0c198fea15e84716bf324fd6cc4a15b4",
       "version_major": 2,
       "version_minor": 0
      },
      "text/plain": [
       "Evaluating:   0%|          | 0/32 [00:00<?, ?it/s]"
      ]
     },
     "metadata": {},
     "output_type": "display_data"
    },
    {
     "name": "stdout",
     "output_type": "stream",
     "text": [
      "2022-04-21 11:59:09 | INFO | eval.py | Accuracy on Multihop Composition: 0.338\n",
      "2022-04-21 11:59:09 | INFO | data.py | Loading jsonl file from /home/kzhao/life-after-bert/tests/data/oLMpics_size_comparison_dev.jsonl\n"
     ]
    },
    {
     "data": {
      "application/vnd.jupyter.widget-view+json": {
       "model_id": "a1c59bfa40454baf87a714aff85bc1aa",
       "version_major": 2,
       "version_minor": 0
      },
      "text/plain": [
       "Evaluating:   0%|          | 0/32 [00:00<?, ?it/s]"
      ]
     },
     "metadata": {},
     "output_type": "display_data"
    },
    {
     "name": "stdout",
     "output_type": "stream",
     "text": [
      "2022-04-21 11:59:12 | INFO | eval.py | Accuracy on Size Comparison: 0.832\n",
      "2022-04-21 11:59:12 | INFO | data.py | Loading jsonl file from /home/kzhao/life-after-bert/tests/data/oLMpics_taxonomy_conjunction_dev.jsonl\n",
      "2022-04-21 11:59:12 | WARNING | data.py | Truncated 382 tokens from answer choices.\n"
     ]
    },
    {
     "data": {
      "application/vnd.jupyter.widget-view+json": {
       "model_id": "26ae5a634f254f9da2e028a18b45049e",
       "version_major": 2,
       "version_minor": 0
      },
      "text/plain": [
       "Evaluating:   0%|          | 0/38 [00:00<?, ?it/s]"
      ]
     },
     "metadata": {},
     "output_type": "display_data"
    },
    {
     "name": "stdout",
     "output_type": "stream",
     "text": [
      "2022-04-21 11:59:14 | INFO | eval.py | Accuracy on Taxonomy Conjunction: 0.42237061769616024\n"
     ]
    },
    {
     "data": {
      "text/plain": [
       "{'Age Comparison': 0.94,\n",
       " 'Always Never': 0.2571428571428571,\n",
       " 'Antonym Negation': 0.646,\n",
       " 'Multihop Composition': 0.338,\n",
       " 'Size Comparison': 0.832,\n",
       " 'Taxonomy Conjunction': 0.42237061769616024}"
      ]
     },
     "execution_count": 5,
     "metadata": {},
     "output_type": "execute_result"
    }
   ],
   "source": [
    "model = transformers.T5ForConditionalGeneration.from_pretrained(\"t5-large\")\n",
    "tokenizer = transformers.AutoTokenizer.from_pretrained(\"t5-large\", mask_token=\"<extra_id_0>\")\n",
    "task_accs = evaluator.evaluate(model, tokenizer, task_infos, model_arch=\"encoder-decoder\", device=device)\n",
    "task_accs"
   ]
  },
  {
   "cell_type": "code",
   "execution_count": null,
   "metadata": {},
   "outputs": [],
   "source": []
  }
 ],
 "metadata": {
  "kernelspec": {
   "display_name": "Python 3 (ipykernel)",
   "language": "python",
   "name": "python3"
  },
  "language_info": {
   "codemirror_mode": {
    "name": "ipython",
    "version": 3
   },
   "file_extension": ".py",
   "mimetype": "text/x-python",
   "name": "python",
   "nbconvert_exporter": "python",
   "pygments_lexer": "ipython3",
   "version": "3.8.10"
  }
 },
 "nbformat": 4,
 "nbformat_minor": 1
}
